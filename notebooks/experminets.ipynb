{
 "cells": [
  {
   "cell_type": "markdown",
   "source": [
    "<h1><centre>PennTree Bank WSJ Corpus</centre></h1>"
   ],
   "metadata": {}
  },
  {
   "cell_type": "code",
   "execution_count": 1,
   "source": [
    "file = open(r\"C:\\Users\\rahin\\projects\\WSJ-POS-tagger\\data\\corpus\\22.auto.clean.txt\")\r\n",
    "roh_daten = file.readlines()\r\n",
    "sample = roh_daten[:10]"
   ],
   "outputs": [],
   "metadata": {}
  },
  {
   "cell_type": "code",
   "execution_count": 3,
   "source": [
    "sample[2] # the whole sample"
   ],
   "outputs": [
    {
     "output_type": "execute_result",
     "data": {
      "text/plain": [
       "'(TOP (S (NP (DT The) (NN bill)) (VP (VBZ intends) (S (VP (TO to) (VP (VB restrict) (NP (DT the) (NNP RTC)) (PP (TO to) (NP (NNP Treasury) (NNS borrowings) (RB only)))))) (, ,) (SBAR (IN unless) (S (NP (DT the) (NN agency)) (VP (VBZ receives) (NP (JJ specific) (JJ congressional) (NN authorization)))))) (. .)))\\n'"
      ]
     },
     "metadata": {},
     "execution_count": 3
    }
   ],
   "metadata": {}
  },
  {
   "cell_type": "code",
   "execution_count": 29,
   "source": [
    "sentence_dirty = list(filter(None,sample[2].split(')'))) # spliiting on closing brackets and viewing a subset of the result \r\n",
    "sentence_clean, tags_clean = [],[]\r\n",
    "for word in sentence_dirty:\r\n",
    "    word = word.replace(\"(\",\"\")\r\n",
    "    # print(word)\r\n",
    "    sentence_clean.append(word.split(' ')[-1])\r\n",
    "    tags_clean.append(word.split(' ')[-2]) if len(word) > 2 else ''\r\n",
    "\r\n",
    "print(f\"{sentence_clean} \\n {tags_clean}\")\r\n"
   ],
   "outputs": [
    {
     "output_type": "stream",
     "name": "stdout",
     "text": [
      "['The', 'bill', 'intends', 'to', 'restrict', 'the', 'RTC', 'to', 'Treasury', 'borrowings', 'only', ',', 'unless', 'the', 'agency', 'receives', 'specific', 'congressional', 'authorization', '.', '\\n'] \n",
      " ['DT', 'NN', 'VBZ', 'TO', 'VB', 'DT', 'NNP', 'TO', 'NNP', 'NNS', 'RB', ',', 'IN', 'DT', 'NN', 'VBZ', 'JJ', 'JJ', 'NN', '.']\n"
     ]
    }
   ],
   "metadata": {}
  },
  {
   "cell_type": "code",
   "execution_count": 28,
   "source": [
    "list1 = [['a','b','c'],['d','e','f']]\r\n",
    "list2 = [['x','y','z'],['p','q','r']]\r\n",
    "\r\n",
    "list1+list2"
   ],
   "outputs": [
    {
     "output_type": "execute_result",
     "data": {
      "text/plain": [
       "[['a', 'b', 'c'], ['d', 'e', 'f'], ['x', 'y', 'z'], ['p', 'q', 'r']]"
      ]
     },
     "metadata": {},
     "execution_count": 28
    }
   ],
   "metadata": {}
  },
  {
   "cell_type": "code",
   "execution_count": 3,
   "source": [
    "import torch\r\n",
    "ex = torch.tensor([27, 27, 27, 26, 27, 26, 26, 45, 45])\r\n",
    "ex.tolist()"
   ],
   "outputs": [
    {
     "output_type": "execute_result",
     "data": {
      "text/plain": [
       "[27, 27, 27, 26, 27, 26, 26, 45, 45]"
      ]
     },
     "metadata": {},
     "execution_count": 3
    }
   ],
   "metadata": {}
  }
 ],
 "metadata": {
  "orig_nbformat": 4,
  "language_info": {
   "name": "python",
   "version": "3.8.8",
   "mimetype": "text/x-python",
   "codemirror_mode": {
    "name": "ipython",
    "version": 3
   },
   "pygments_lexer": "ipython3",
   "nbconvert_exporter": "python",
   "file_extension": ".py"
  },
  "kernelspec": {
   "name": "python3",
   "display_name": "Python 3.8.8 64-bit ('tf': conda)"
  },
  "interpreter": {
   "hash": "75c4db28bb58e6de10e05be21b6046b5ba21d9aba4af4007d97c2f3325bc0896"
  }
 },
 "nbformat": 4,
 "nbformat_minor": 2
}